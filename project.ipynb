{
 "cells": [
  {
   "cell_type": "code",
   "execution_count": 15,
   "id": "f9f3c707",
   "metadata": {},
   "outputs": [
    {
     "name": "stdout",
     "output_type": "stream",
     "text": [
      "Defaulting to user installation because normal site-packages is not writeable\n",
      "Requirement already satisfied: yfinance==0.1.67 in c:\\users\\upurohit\\appdata\\roaming\\python\\python39\\site-packages (0.1.67)\n",
      "Requirement already satisfied: requests>=2.20 in c:\\programdata\\anaconda3\\lib\\site-packages (from yfinance==0.1.67) (2.27.1)\n",
      "Requirement already satisfied: multitasking>=0.0.7 in c:\\users\\upurohit\\appdata\\roaming\\python\\python39\\site-packages (from yfinance==0.1.67) (0.0.11)\n",
      "Requirement already satisfied: numpy>=1.15 in c:\\programdata\\anaconda3\\lib\\site-packages (from yfinance==0.1.67) (1.21.5)\n",
      "Requirement already satisfied: lxml>=4.5.1 in c:\\programdata\\anaconda3\\lib\\site-packages (from yfinance==0.1.67) (4.8.0)\n",
      "Requirement already satisfied: pandas>=0.24 in c:\\users\\upurohit\\appdata\\roaming\\python\\python39\\site-packages (from yfinance==0.1.67) (1.5.0)\n",
      "Requirement already satisfied: python-dateutil>=2.8.1 in c:\\programdata\\anaconda3\\lib\\site-packages (from pandas>=0.24->yfinance==0.1.67) (2.8.2)\n",
      "Requirement already satisfied: pytz>=2020.1 in c:\\programdata\\anaconda3\\lib\\site-packages (from pandas>=0.24->yfinance==0.1.67) (2021.3)\n",
      "Requirement already satisfied: six>=1.5 in c:\\programdata\\anaconda3\\lib\\site-packages (from python-dateutil>=2.8.1->pandas>=0.24->yfinance==0.1.67) (1.16.0)\n",
      "Requirement already satisfied: idna<4,>=2.5 in c:\\programdata\\anaconda3\\lib\\site-packages (from requests>=2.20->yfinance==0.1.67) (3.3)\n",
      "Requirement already satisfied: urllib3<1.27,>=1.21.1 in c:\\programdata\\anaconda3\\lib\\site-packages (from requests>=2.20->yfinance==0.1.67) (1.26.9)\n",
      "Requirement already satisfied: certifi>=2017.4.17 in c:\\programdata\\anaconda3\\lib\\site-packages (from requests>=2.20->yfinance==0.1.67) (2021.10.8)\n",
      "Requirement already satisfied: charset-normalizer~=2.0.0 in c:\\programdata\\anaconda3\\lib\\site-packages (from requests>=2.20->yfinance==0.1.67) (2.0.4)\n"
     ]
    }
   ],
   "source": [
    "!pip install yfinance==0.1.67"
   ]
  },
  {
   "cell_type": "code",
   "execution_count": 16,
   "id": "dcab1123",
   "metadata": {},
   "outputs": [],
   "source": [
    "import yfinance as yf\n",
    "import pandas as pd"
   ]
  },
  {
   "cell_type": "code",
   "execution_count": 22,
   "id": "8df2cec8",
   "metadata": {},
   "outputs": [],
   "source": [
    "gamestop = yf.Ticker(\"GME\")"
   ]
  },
  {
   "cell_type": "code",
   "execution_count": 23,
   "id": "b21d1493",
   "metadata": {},
   "outputs": [
    {
     "data": {
      "text/plain": [
       "{'zip': '76051',\n",
       " 'sector': 'Consumer Cyclical',\n",
       " 'fullTimeEmployees': 12000,\n",
       " 'longBusinessSummary': 'GameStop Corp., a specialty retailer, provides games and entertainment products through its e-commerce properties and various stores in the United States, Canada, Australia, and Europe. The company sells new and pre-owned gaming platforms; accessories, such as controllers, gaming headsets, virtual reality products, and memory cards; new and pre-owned gaming software; and in-game digital currency, digital downloadable content, and full-game downloads. It also sells collectibles comprising licensed merchandise primarily related to the gaming, television, and movie industries, as well as pop culture themes. As of January 29, 2022, the company operated 4,573 stores and ecommerce sites under the GameStop, EB Games, and Micromania brands; and 50 pop culture themed stores that sell collectibles, apparel, gadgets, electronics, toys, and other retail products under the Zing Pop Culture brand, as well as offers Game Informer, a print and digital video game publication featuring reviews of new releases, previews of the big titles on the horizon, and coverage of the latest developments in the gaming industry. The company was formerly known as GSC Holdings Corp. GameStop Corp. was founded in 1996 and is headquartered in Grapevine, Texas.',\n",
       " 'city': 'Grapevine',\n",
       " 'phone': '817 424 2000',\n",
       " 'state': 'TX',\n",
       " 'country': 'United States',\n",
       " 'companyOfficers': [],\n",
       " 'website': 'https://www.gamestop.com',\n",
       " 'maxAge': 1,\n",
       " 'address1': '625 Westport Parkway',\n",
       " 'industry': 'Specialty Retail',\n",
       " 'ebitdaMargins': -0.0648,\n",
       " 'profitMargins': -0.08566,\n",
       " 'grossMargins': 0.21064,\n",
       " 'operatingCashflow': -811299968,\n",
       " 'revenueGrowth': -0.04,\n",
       " 'operatingMargins': -0.07689,\n",
       " 'ebitda': -393000000,\n",
       " 'targetLowPrice': 6,\n",
       " 'recommendationKey': 'underperform',\n",
       " 'grossProfits': 1347800000,\n",
       " 'freeCashflow': -666649984,\n",
       " 'targetMedianPrice': 16,\n",
       " 'currentPrice': 25.54,\n",
       " 'earningsGrowth': None,\n",
       " 'currentRatio': 2.166,\n",
       " 'returnOnAssets': -0.09186,\n",
       " 'numberOfAnalystOpinions': 2,\n",
       " 'targetMeanPrice': 16,\n",
       " 'debtToEquity': 44.838,\n",
       " 'returnOnEquity': -0.32514,\n",
       " 'targetHighPrice': 26,\n",
       " 'totalCash': 908899968,\n",
       " 'totalDebt': 602400000,\n",
       " 'totalRevenue': 6064900096,\n",
       " 'totalCashPerShare': 3,\n",
       " 'financialCurrency': 'USD',\n",
       " 'revenuePerShare': 19.963,\n",
       " 'quickRatio': 1.262,\n",
       " 'recommendationMean': 4,\n",
       " 'exchange': 'NYQ',\n",
       " 'shortName': 'GameStop Corporation',\n",
       " 'longName': 'GameStop Corp.',\n",
       " 'exchangeTimezoneName': 'America/New_York',\n",
       " 'exchangeTimezoneShortName': 'EDT',\n",
       " 'isEsgPopulated': False,\n",
       " 'gmtOffSetMilliseconds': '-14400000',\n",
       " 'quoteType': 'EQUITY',\n",
       " 'symbol': 'GME',\n",
       " 'messageBoardId': 'finmb_1342560',\n",
       " 'market': 'us_market',\n",
       " 'annualHoldingsTurnover': None,\n",
       " 'enterpriseToRevenue': 1.212,\n",
       " 'beta3Year': None,\n",
       " 'enterpriseToEbitda': -18.701,\n",
       " '52WeekChange': -0.4481858,\n",
       " 'morningStarRiskRating': None,\n",
       " 'forwardEps': -0.84,\n",
       " 'revenueQuarterlyGrowth': None,\n",
       " 'sharesOutstanding': 304529984,\n",
       " 'fundInceptionDate': None,\n",
       " 'annualReportExpenseRatio': None,\n",
       " 'totalAssets': None,\n",
       " 'bookValue': 4.442,\n",
       " 'sharesShort': 49525156,\n",
       " 'sharesPercentSharesOut': 0.1626,\n",
       " 'fundFamily': None,\n",
       " 'lastFiscalYearEnd': 1643414400,\n",
       " 'heldPercentInstitutions': 0.27247998,\n",
       " 'netIncomeToCommon': -519500000,\n",
       " 'trailingEps': -6.292,\n",
       " 'lastDividendValue': 0.095,\n",
       " 'SandP52WeekChange': -0.1940468,\n",
       " 'priceToBook': 5.7496624,\n",
       " 'heldPercentInsiders': 0.15625,\n",
       " 'nextFiscalYearEnd': 1706486400,\n",
       " 'yield': None,\n",
       " 'mostRecentQuarter': 1659139200,\n",
       " 'shortRatio': 6.93,\n",
       " 'sharesShortPreviousMonthDate': 1660521600,\n",
       " 'floatShares': 253535319,\n",
       " 'beta': -0.28924,\n",
       " 'enterpriseValue': 7349671424,\n",
       " 'priceHint': 2,\n",
       " 'threeYearAverageReturn': None,\n",
       " 'lastSplitDate': 1658448000,\n",
       " 'lastSplitFactor': '4:1',\n",
       " 'legalType': None,\n",
       " 'lastDividendDate': 1552521600,\n",
       " 'morningStarOverallRating': None,\n",
       " 'earningsQuarterlyGrowth': None,\n",
       " 'priceToSalesTrailing12Months': 1.2824112,\n",
       " 'dateShortInterest': 1663200000,\n",
       " 'pegRatio': 0.38,\n",
       " 'ytdReturn': None,\n",
       " 'forwardPE': -30.404764,\n",
       " 'lastCapGain': None,\n",
       " 'shortPercentOfFloat': 0.1851,\n",
       " 'sharesShortPriorMonth': 53245515,\n",
       " 'impliedSharesOutstanding': 0,\n",
       " 'category': None,\n",
       " 'fiveYearAverageReturn': None,\n",
       " 'previousClose': 25.36,\n",
       " 'regularMarketOpen': 24.42,\n",
       " 'twoHundredDayAverage': 31.25675,\n",
       " 'trailingAnnualDividendYield': 0,\n",
       " 'payoutRatio': 0,\n",
       " 'volume24Hr': None,\n",
       " 'regularMarketDayHigh': 26.59,\n",
       " 'navPrice': None,\n",
       " 'averageDailyVolume10Day': 3354900,\n",
       " 'regularMarketPreviousClose': 25.36,\n",
       " 'fiftyDayAverage': 30.8092,\n",
       " 'trailingAnnualDividendRate': 0,\n",
       " 'open': 24.42,\n",
       " 'toCurrency': None,\n",
       " 'averageVolume10days': 3354900,\n",
       " 'expireDate': None,\n",
       " 'algorithm': None,\n",
       " 'dividendRate': None,\n",
       " 'exDividendDate': 1552521600,\n",
       " 'circulatingSupply': None,\n",
       " 'startDate': None,\n",
       " 'regularMarketDayLow': 23.91,\n",
       " 'currency': 'USD',\n",
       " 'regularMarketVolume': 3417138,\n",
       " 'lastMarket': None,\n",
       " 'maxSupply': None,\n",
       " 'openInterest': None,\n",
       " 'marketCap': 7777696256,\n",
       " 'volumeAllCurrencies': None,\n",
       " 'strikePrice': None,\n",
       " 'averageVolume': 6364070,\n",
       " 'dayLow': 23.91,\n",
       " 'ask': 25.6,\n",
       " 'askSize': 1000,\n",
       " 'volume': 3417138,\n",
       " 'fiftyTwoWeekHigh': 63.9225,\n",
       " 'fromCurrency': None,\n",
       " 'fiveYearAvgDividendYield': None,\n",
       " 'fiftyTwoWeekLow': 19.395,\n",
       " 'bid': 25.54,\n",
       " 'tradeable': False,\n",
       " 'dividendYield': None,\n",
       " 'bidSize': 900,\n",
       " 'dayHigh': 26.59,\n",
       " 'coinMarketCapLink': None,\n",
       " 'regularMarketPrice': 25.54,\n",
       " 'preMarketPrice': 24.4,\n",
       " 'logo_url': 'https://logo.clearbit.com/gamestop.com'}"
      ]
     },
     "execution_count": 23,
     "metadata": {},
     "output_type": "execute_result"
    }
   ],
   "source": [
    "gamestop_info = gamestop.info\n",
    "gamestop_info"
   ]
  },
  {
   "cell_type": "code",
   "execution_count": 26,
   "id": "91b9f684",
   "metadata": {},
   "outputs": [
    {
     "data": {
      "text/plain": [
       "'United States'"
      ]
     },
     "execution_count": 26,
     "metadata": {},
     "output_type": "execute_result"
    }
   ],
   "source": [
    "gamestop_info['country']"
   ]
  },
  {
   "cell_type": "markdown",
   "id": "89790049",
   "metadata": {},
   "source": [
    "# Extracting share price"
   ]
  },
  {
   "cell_type": "code",
   "execution_count": 28,
   "id": "40b7ecef",
   "metadata": {},
   "outputs": [],
   "source": [
    "gamestop_share_price_data = gamestop.history(period='max')"
   ]
  },
  {
   "cell_type": "code",
   "execution_count": 29,
   "id": "0b80a7b2",
   "metadata": {},
   "outputs": [
    {
     "data": {
      "text/html": [
       "<div>\n",
       "<style scoped>\n",
       "    .dataframe tbody tr th:only-of-type {\n",
       "        vertical-align: middle;\n",
       "    }\n",
       "\n",
       "    .dataframe tbody tr th {\n",
       "        vertical-align: top;\n",
       "    }\n",
       "\n",
       "    .dataframe thead th {\n",
       "        text-align: right;\n",
       "    }\n",
       "</style>\n",
       "<table border=\"1\" class=\"dataframe\">\n",
       "  <thead>\n",
       "    <tr style=\"text-align: right;\">\n",
       "      <th></th>\n",
       "      <th>Open</th>\n",
       "      <th>High</th>\n",
       "      <th>Low</th>\n",
       "      <th>Close</th>\n",
       "      <th>Volume</th>\n",
       "      <th>Dividends</th>\n",
       "      <th>Stock Splits</th>\n",
       "    </tr>\n",
       "    <tr>\n",
       "      <th>Date</th>\n",
       "      <th></th>\n",
       "      <th></th>\n",
       "      <th></th>\n",
       "      <th></th>\n",
       "      <th></th>\n",
       "      <th></th>\n",
       "      <th></th>\n",
       "    </tr>\n",
       "  </thead>\n",
       "  <tbody>\n",
       "    <tr>\n",
       "      <th>2002-02-13</th>\n",
       "      <td>1.620129</td>\n",
       "      <td>1.693350</td>\n",
       "      <td>1.603296</td>\n",
       "      <td>1.691667</td>\n",
       "      <td>76216000</td>\n",
       "      <td>0.0</td>\n",
       "      <td>0.0</td>\n",
       "    </tr>\n",
       "    <tr>\n",
       "      <th>2002-02-14</th>\n",
       "      <td>1.712707</td>\n",
       "      <td>1.716074</td>\n",
       "      <td>1.670626</td>\n",
       "      <td>1.683250</td>\n",
       "      <td>11021600</td>\n",
       "      <td>0.0</td>\n",
       "      <td>0.0</td>\n",
       "    </tr>\n",
       "    <tr>\n",
       "      <th>2002-02-15</th>\n",
       "      <td>1.683250</td>\n",
       "      <td>1.687458</td>\n",
       "      <td>1.658002</td>\n",
       "      <td>1.674834</td>\n",
       "      <td>8389600</td>\n",
       "      <td>0.0</td>\n",
       "      <td>0.0</td>\n",
       "    </tr>\n",
       "    <tr>\n",
       "      <th>2002-02-19</th>\n",
       "      <td>1.666417</td>\n",
       "      <td>1.666417</td>\n",
       "      <td>1.578047</td>\n",
       "      <td>1.607504</td>\n",
       "      <td>7410400</td>\n",
       "      <td>0.0</td>\n",
       "      <td>0.0</td>\n",
       "    </tr>\n",
       "    <tr>\n",
       "      <th>2002-02-20</th>\n",
       "      <td>1.615920</td>\n",
       "      <td>1.662209</td>\n",
       "      <td>1.603296</td>\n",
       "      <td>1.662209</td>\n",
       "      <td>6892800</td>\n",
       "      <td>0.0</td>\n",
       "      <td>0.0</td>\n",
       "    </tr>\n",
       "  </tbody>\n",
       "</table>\n",
       "</div>"
      ],
      "text/plain": [
       "                Open      High       Low     Close    Volume  Dividends  \\\n",
       "Date                                                                      \n",
       "2002-02-13  1.620129  1.693350  1.603296  1.691667  76216000        0.0   \n",
       "2002-02-14  1.712707  1.716074  1.670626  1.683250  11021600        0.0   \n",
       "2002-02-15  1.683250  1.687458  1.658002  1.674834   8389600        0.0   \n",
       "2002-02-19  1.666417  1.666417  1.578047  1.607504   7410400        0.0   \n",
       "2002-02-20  1.615920  1.662209  1.603296  1.662209   6892800        0.0   \n",
       "\n",
       "            Stock Splits  \n",
       "Date                      \n",
       "2002-02-13           0.0  \n",
       "2002-02-14           0.0  \n",
       "2002-02-15           0.0  \n",
       "2002-02-19           0.0  \n",
       "2002-02-20           0.0  "
      ]
     },
     "execution_count": 29,
     "metadata": {},
     "output_type": "execute_result"
    }
   ],
   "source": [
    "gamestop_share_price_data.head()"
   ]
  },
  {
   "cell_type": "code",
   "execution_count": 30,
   "id": "949f4737",
   "metadata": {},
   "outputs": [],
   "source": [
    "gamestop_share_price_data.reset_index(inplace=True)"
   ]
  },
  {
   "cell_type": "code",
   "execution_count": 31,
   "id": "d897f538",
   "metadata": {},
   "outputs": [
    {
     "data": {
      "text/plain": [
       "<AxesSubplot:xlabel='Date'>"
      ]
     },
     "execution_count": 31,
     "metadata": {},
     "output_type": "execute_result"
    },
    {
     "data": {
      "image/png": "[encoded data removed]",
      "text/plain": [
       "<Figure size 432x288 with 1 Axes>"
      ]
     },
     "metadata": {
      "needs_background": "light"
     },
     "output_type": "display_data"
    }
   ],
   "source": [
    "gamestop_share_price_data.plot(x= \"Date\",y=\"Open\")"
   ]
  },
  {
   "cell_type": "markdown",
   "id": "ea1b4bc4",
   "metadata": {},
   "source": [
    "# Extracting Dividends"
   ]
  },
  {
   "cell_type": "code",
   "execution_count": 33,
   "id": "65e99cbd",
   "metadata": {},
   "outputs": [
    {
     "data": {
      "text/plain": [
       "Date\n",
       "2012-02-16    0.03750\n",
       "2012-05-24    0.03750\n",
       "2012-08-24    0.06250\n",
       "2012-11-26    0.06250\n",
       "2013-03-01    0.06875\n",
       "2013-05-31    0.06875\n",
       "2013-08-29    0.06875\n",
       "2013-12-02    0.06875\n",
       "2014-03-13    0.08250\n",
       "2014-06-02    0.08250\n",
       "2014-08-29    0.08250\n",
       "2014-11-21    0.08250\n",
       "2015-03-13    0.09000\n",
       "2015-06-08    0.09000\n",
       "2015-09-04    0.09000\n",
       "2015-12-01    0.09000\n",
       "2016-03-04    0.09250\n",
       "2016-06-06    0.09250\n",
       "2016-09-07    0.09250\n",
       "2016-11-29    0.09250\n",
       "2017-03-10    0.09500\n",
       "2017-06-05    0.09500\n",
       "2017-09-07    0.09500\n",
       "2017-11-30    0.09500\n",
       "2018-03-02    0.09500\n",
       "2018-06-11    0.09500\n",
       "2018-09-17    0.09500\n",
       "2018-12-10    0.09500\n",
       "2019-03-14    0.09500\n",
       "Name: Dividends, dtype: float64"
      ]
     },
     "execution_count": 33,
     "metadata": {},
     "output_type": "execute_result"
    }
   ],
   "source": [
    "gamestop.dividends"
   ]
  },
  {
   "cell_type": "code",
   "execution_count": 34,
   "id": "354f024e",
   "metadata": {},
   "outputs": [
    {
     "data": {
      "text/plain": [
       "<AxesSubplot:xlabel='Date'>"
      ]
     },
     "execution_count": 34,
     "metadata": {},
     "output_type": "execute_result"
    },
    {
     "data": {
      "image/png": "[encoded data removed]",
      "text/plain": [
       "<Figure size 432x288 with 1 Axes>"
      ]
     },
     "metadata": {
      "needs_background": "light"
     },
     "output_type": "display_data"
    }
   ],
   "source": [
    "gamestop.dividends.plot()"
   ]
  },
  {
   "cell_type": "code",
   "execution_count": null,
   "id": "74caaa56",
   "metadata": {},
   "outputs": [],
   "source": []
  }
 ],
 "metadata": {
  "kernelspec": {
   "display_name": "Python 3 (ipykernel)",
   "language": "python",
   "name": "python3"
  },
  "language_info": {
   "codemirror_mode": {
    "name": "ipython",
    "version": 3
   },
   "file_extension": ".py",
   "mimetype": "text/x-python",
   "name": "python",
   "nbconvert_exporter": "python",
   "pygments_lexer": "ipython3",
   "version": "3.9.12"
  }
 },
 "nbformat": 4,
 "nbformat_minor": 5
}
